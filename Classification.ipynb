{
 "cells": [
  {
   "cell_type": "code",
   "execution_count": 1,
   "id": "729b73d8",
   "metadata": {},
   "outputs": [],
   "source": [
    "import keras,os\n",
    "from keras.datasets import fashion_mnist, cifar100\n",
    "from keras.layers import Dense, Activation, Flatten, Conv2D, MaxPooling2D, Dropout, BatchNormalization\n",
    "from keras.models import Sequential\n",
    "from keras.utils import to_categorical\n",
    "from keras.preprocessing.image import ImageDataGenerator\n",
    "import numpy as np\n",
    "import matplotlib.pyplot as plt\n",
    "import tensorflow as tf\n",
    "import cv2\n",
    "from keras import optimizers\n",
    "from keras.layers.core import Lambda\n",
    "from keras import backend as K\n",
    "from keras import regularizers\n",
    "from sklearn import datasets # load dataset\n",
    "from sklearn.model_selection import train_test_split # split dataset\n",
    "from sklearn.preprocessing import StandardScaler # standard scaler\n",
    "from sklearn.metrics import accuracy_score # check accuracy\n",
    "from PIL import Image"
   ]
  },
  {
   "cell_type": "code",
   "execution_count": 2,
   "id": "f3023e0f",
   "metadata": {},
   "outputs": [
    {
     "data": {
      "text/html": [
       "<div>\n",
       "<style scoped>\n",
       "    .dataframe tbody tr th:only-of-type {\n",
       "        vertical-align: middle;\n",
       "    }\n",
       "\n",
       "    .dataframe tbody tr th {\n",
       "        vertical-align: top;\n",
       "    }\n",
       "\n",
       "    .dataframe thead th {\n",
       "        text-align: right;\n",
       "    }\n",
       "</style>\n",
       "<table border=\"1\" class=\"dataframe\">\n",
       "  <thead>\n",
       "    <tr style=\"text-align: right;\">\n",
       "      <th></th>\n",
       "      <th>image_no</th>\n",
       "      <th>image_path</th>\n",
       "      <th>label</th>\n",
       "    </tr>\n",
       "  </thead>\n",
       "  <tbody>\n",
       "    <tr>\n",
       "      <th>0</th>\n",
       "      <td>1</td>\n",
       "      <td>E:\\SEM 6\\classification\\split\\image_part_001.jpg</td>\n",
       "      <td>1</td>\n",
       "    </tr>\n",
       "    <tr>\n",
       "      <th>1</th>\n",
       "      <td>2</td>\n",
       "      <td>E:\\SEM 6\\classification\\split\\image_part_002.jpg</td>\n",
       "      <td>0</td>\n",
       "    </tr>\n",
       "    <tr>\n",
       "      <th>2</th>\n",
       "      <td>3</td>\n",
       "      <td>E:\\SEM 6\\classification\\split\\image_part_003.jpg</td>\n",
       "      <td>1</td>\n",
       "    </tr>\n",
       "    <tr>\n",
       "      <th>3</th>\n",
       "      <td>4</td>\n",
       "      <td>E:\\SEM 6\\classification\\split\\image_part_004.jpg</td>\n",
       "      <td>0</td>\n",
       "    </tr>\n",
       "    <tr>\n",
       "      <th>4</th>\n",
       "      <td>5</td>\n",
       "      <td>E:\\SEM 6\\classification\\split\\image_part_005.jpg</td>\n",
       "      <td>1</td>\n",
       "    </tr>\n",
       "    <tr>\n",
       "      <th>...</th>\n",
       "      <td>...</td>\n",
       "      <td>...</td>\n",
       "      <td>...</td>\n",
       "    </tr>\n",
       "    <tr>\n",
       "      <th>295</th>\n",
       "      <td>296</td>\n",
       "      <td>E:\\SEM 6\\classification\\split\\image_part_296.jpg</td>\n",
       "      <td>1</td>\n",
       "    </tr>\n",
       "    <tr>\n",
       "      <th>296</th>\n",
       "      <td>297</td>\n",
       "      <td>E:\\SEM 6\\classification\\split\\image_part_297.jpg</td>\n",
       "      <td>1</td>\n",
       "    </tr>\n",
       "    <tr>\n",
       "      <th>297</th>\n",
       "      <td>298</td>\n",
       "      <td>E:\\SEM 6\\classification\\split\\image_part_298.jpg</td>\n",
       "      <td>1</td>\n",
       "    </tr>\n",
       "    <tr>\n",
       "      <th>298</th>\n",
       "      <td>299</td>\n",
       "      <td>E:\\SEM 6\\classification\\split\\image_part_299.jpg</td>\n",
       "      <td>1</td>\n",
       "    </tr>\n",
       "    <tr>\n",
       "      <th>299</th>\n",
       "      <td>300</td>\n",
       "      <td>E:\\SEM 6\\classification\\split\\image_part_300.jpg</td>\n",
       "      <td>0</td>\n",
       "    </tr>\n",
       "  </tbody>\n",
       "</table>\n",
       "<p>300 rows × 3 columns</p>\n",
       "</div>"
      ],
      "text/plain": [
       "     image_no                                        image_path  label\n",
       "0           1  E:\\SEM 6\\classification\\split\\image_part_001.jpg      1\n",
       "1           2  E:\\SEM 6\\classification\\split\\image_part_002.jpg      0\n",
       "2           3  E:\\SEM 6\\classification\\split\\image_part_003.jpg      1\n",
       "3           4  E:\\SEM 6\\classification\\split\\image_part_004.jpg      0\n",
       "4           5  E:\\SEM 6\\classification\\split\\image_part_005.jpg      1\n",
       "..        ...                                               ...    ...\n",
       "295       296  E:\\SEM 6\\classification\\split\\image_part_296.jpg      1\n",
       "296       297  E:\\SEM 6\\classification\\split\\image_part_297.jpg      1\n",
       "297       298  E:\\SEM 6\\classification\\split\\image_part_298.jpg      1\n",
       "298       299  E:\\SEM 6\\classification\\split\\image_part_299.jpg      1\n",
       "299       300  E:\\SEM 6\\classification\\split\\image_part_300.jpg      0\n",
       "\n",
       "[300 rows x 3 columns]"
      ]
     },
     "execution_count": 2,
     "metadata": {},
     "output_type": "execute_result"
    }
   ],
   "source": [
    "import pandas as pd\n",
    "maindir = \"\"\n",
    "data_given = pd.read_csv('./split1.csv')\n",
    "data_given"
   ]
  },
  {
   "cell_type": "code",
   "execution_count": 3,
   "id": "87be9464",
   "metadata": {},
   "outputs": [],
   "source": [
    "## Function to Load the Images\n",
    "def loadData(df):\n",
    "    dataframeObj = [[]]\n",
    "    \n",
    "    for sat_img in df.image_path:\n",
    "        Reading_Sat = Image.open(sat_img).convert('L').resize((128, 128))\n",
    "        Reading_Sat = np.asarray(Reading_Sat)\n",
    "        Reading_Sat = Reading_Sat/255.\n",
    "        \n",
    "        dataframeObj[0].append(Reading_Sat)\n",
    "    return np.array(dataframeObj)"
   ]
  },
  {
   "cell_type": "code",
   "execution_count": 4,
   "id": "2ed00d6c",
   "metadata": {},
   "outputs": [],
   "source": [
    "df = loadData(data_given)"
   ]
  },
  {
   "cell_type": "code",
   "execution_count": 5,
   "id": "e47cb45d",
   "metadata": {},
   "outputs": [
    {
     "data": {
      "text/plain": [
       "array([[[[0.        , 0.        , 0.        , ..., 0.        ,\n",
       "          0.        , 0.        ],\n",
       "         [0.        , 0.        , 0.        , ..., 0.        ,\n",
       "          0.        , 0.        ],\n",
       "         [0.        , 0.        , 0.        , ..., 0.        ,\n",
       "          0.        , 0.        ],\n",
       "         ...,\n",
       "         [0.        , 0.        , 0.        , ..., 1.        ,\n",
       "          0.25098039, 0.        ],\n",
       "         [0.        , 0.        , 0.        , ..., 1.        ,\n",
       "          0.25882353, 0.        ],\n",
       "         [0.        , 0.        , 0.        , ..., 1.        ,\n",
       "          0.25882353, 0.        ]],\n",
       "\n",
       "        [[0.        , 0.        , 0.        , ..., 0.        ,\n",
       "          0.        , 0.        ],\n",
       "         [0.        , 0.        , 0.        , ..., 0.        ,\n",
       "          0.        , 0.        ],\n",
       "         [0.        , 0.        , 0.        , ..., 0.        ,\n",
       "          0.        , 0.        ],\n",
       "         ...,\n",
       "         [0.        , 0.        , 0.        , ..., 0.        ,\n",
       "          0.        , 0.        ],\n",
       "         [0.        , 0.        , 0.        , ..., 0.        ,\n",
       "          0.        , 0.        ],\n",
       "         [0.        , 0.        , 0.        , ..., 0.        ,\n",
       "          0.        , 0.        ]],\n",
       "\n",
       "        [[0.        , 0.        , 0.        , ..., 1.        ,\n",
       "          0.25882353, 0.        ],\n",
       "         [0.        , 0.        , 0.        , ..., 1.        ,\n",
       "          0.25882353, 0.        ],\n",
       "         [0.        , 0.        , 0.        , ..., 1.        ,\n",
       "          0.25882353, 0.        ],\n",
       "         ...,\n",
       "         [0.        , 0.        , 0.        , ..., 0.        ,\n",
       "          0.        , 0.        ],\n",
       "         [0.        , 0.        , 0.        , ..., 0.        ,\n",
       "          0.        , 0.        ],\n",
       "         [0.        , 0.        , 0.        , ..., 0.        ,\n",
       "          0.        , 0.        ]],\n",
       "\n",
       "        ...,\n",
       "\n",
       "        [[0.        , 0.        , 0.        , ..., 0.        ,\n",
       "          0.        , 0.        ],\n",
       "         [0.        , 0.        , 0.        , ..., 0.        ,\n",
       "          0.        , 0.        ],\n",
       "         [0.        , 0.        , 0.        , ..., 0.        ,\n",
       "          0.        , 0.        ],\n",
       "         ...,\n",
       "         [0.        , 0.        , 0.        , ..., 0.        ,\n",
       "          0.        , 0.        ],\n",
       "         [0.        , 0.        , 0.        , ..., 0.        ,\n",
       "          0.        , 0.        ],\n",
       "         [0.        , 0.        , 0.        , ..., 0.        ,\n",
       "          0.        , 0.        ]],\n",
       "\n",
       "        [[0.        , 0.        , 0.        , ..., 0.        ,\n",
       "          0.        , 0.        ],\n",
       "         [0.        , 0.        , 0.        , ..., 0.        ,\n",
       "          0.        , 0.        ],\n",
       "         [0.        , 0.        , 0.        , ..., 0.        ,\n",
       "          0.        , 0.        ],\n",
       "         ...,\n",
       "         [0.        , 0.        , 0.        , ..., 0.        ,\n",
       "          0.        , 0.        ],\n",
       "         [0.        , 0.        , 0.        , ..., 0.        ,\n",
       "          0.        , 0.        ],\n",
       "         [0.        , 0.        , 0.        , ..., 0.        ,\n",
       "          0.        , 0.        ]],\n",
       "\n",
       "        [[0.        , 0.        , 0.        , ..., 0.        ,\n",
       "          0.        , 0.        ],\n",
       "         [0.        , 0.        , 0.        , ..., 0.        ,\n",
       "          0.        , 0.        ],\n",
       "         [0.        , 0.        , 0.        , ..., 0.        ,\n",
       "          0.        , 0.        ],\n",
       "         ...,\n",
       "         [0.        , 0.        , 0.        , ..., 0.        ,\n",
       "          0.        , 0.        ],\n",
       "         [0.        , 0.        , 0.        , ..., 0.        ,\n",
       "          0.        , 0.        ],\n",
       "         [0.        , 0.        , 0.        , ..., 0.        ,\n",
       "          0.        , 0.        ]]]])"
      ]
     },
     "execution_count": 5,
     "metadata": {},
     "output_type": "execute_result"
    }
   ],
   "source": [
    "df"
   ]
  },
  {
   "cell_type": "code",
   "execution_count": 6,
   "id": "f83b8096",
   "metadata": {},
   "outputs": [
    {
     "data": {
      "text/plain": [
       "(1, 300, 128, 128)"
      ]
     },
     "execution_count": 6,
     "metadata": {},
     "output_type": "execute_result"
    }
   ],
   "source": [
    "df.shape"
   ]
  },
  {
   "cell_type": "code",
   "execution_count": 7,
   "id": "8805480d",
   "metadata": {},
   "outputs": [],
   "source": [
    "#split train and test for the 100 images\n",
    "X = df[0]\n",
    "y = data_given['label']\n",
    "from sklearn.model_selection import train_test_split\n",
    "X_train, X_test, y_train, y_test = train_test_split(X, y, test_size=0.33, random_state=1)"
   ]
  },
  {
   "cell_type": "code",
   "execution_count": 8,
   "id": "7d31b571",
   "metadata": {},
   "outputs": [],
   "source": [
    "X_train, X_val, y_train, y_val = train_test_split(X_train, y_train, \n",
    "    test_size=0.2, random_state= 8)"
   ]
  },
  {
   "cell_type": "code",
   "execution_count": 9,
   "id": "4019a16b",
   "metadata": {},
   "outputs": [],
   "source": [
    "# replace 28 with 512\n",
    "train_X = X_train.reshape(-1, 128,128, 1)\n",
    "test_X = X_test.reshape(-1, 128,128, 1)\n",
    "train_X = X_train.astype('float32')\n",
    "test_X = X_test.astype('float32')\n",
    "train_Y, test_Y = y_train, y_test "
   ]
  },
  {
   "cell_type": "code",
   "execution_count": 10,
   "id": "b92884e8",
   "metadata": {},
   "outputs": [
    {
     "name": "stdout",
     "output_type": "stream",
     "text": [
      "Model: \"sequential\"\n",
      "_________________________________________________________________\n",
      " Layer (type)                Output Shape              Param #   \n",
      "=================================================================\n",
      " conv2d (Conv2D)             (None, 127, 127, 64)      320       \n",
      "                                                                 \n",
      " activation (Activation)     (None, 127, 127, 64)      0         \n",
      "                                                                 \n",
      " max_pooling2d (MaxPooling2D  (None, 63, 63, 64)       0         \n",
      " )                                                               \n",
      "                                                                 \n",
      " conv2d_1 (Conv2D)           (None, 62, 62, 64)        16448     \n",
      "                                                                 \n",
      " activation_1 (Activation)   (None, 62, 62, 64)        0         \n",
      "                                                                 \n",
      " max_pooling2d_1 (MaxPooling  (None, 31, 31, 64)       0         \n",
      " 2D)                                                             \n",
      "                                                                 \n",
      " flatten (Flatten)           (None, 61504)             0         \n",
      "                                                                 \n",
      " dense (Dense)               (None, 64)                3936320   \n",
      "                                                                 \n",
      " dense_1 (Dense)             (None, 32)                2080      \n",
      "                                                                 \n",
      " activation_2 (Activation)   (None, 32)                0         \n",
      "                                                                 \n",
      " dense_2 (Dense)             (None, 1)                 33        \n",
      "                                                                 \n",
      " activation_3 (Activation)   (None, 1)                 0         \n",
      "                                                                 \n",
      "=================================================================\n",
      "Total params: 3,955,201\n",
      "Trainable params: 3,955,201\n",
      "Non-trainable params: 0\n",
      "_________________________________________________________________\n"
     ]
    }
   ],
   "source": [
    "model = Sequential()\n",
    "model.add(Conv2D(64, (2,2), input_shape=(128,128, 1)))\n",
    "model.add(Activation('relu'))\n",
    "model.add(MaxPooling2D(pool_size=(2,2)))\n",
    "model.add(Conv2D(64, (2,2)))\n",
    "model.add(Activation('sigmoid'))\n",
    "model.add(MaxPooling2D(pool_size=(2,2)))\n",
    "model.add(Flatten())\n",
    "model.add(Dense(64))\n",
    "model.add(Dense(32))\n",
    "model.add(Activation('tanh'))\n",
    "model.add(Dense(1))\n",
    "model.add(Activation('softmax'))\n",
    "model.compile(loss = \"binary_crossentropy\", optimizer=\"adam\",metrics=['accuracy'])\n",
    "model.summary()"
   ]
  },
  {
   "cell_type": "code",
   "execution_count": 11,
   "id": "88ce0577",
   "metadata": {},
   "outputs": [
    {
     "name": "stdout",
     "output_type": "stream",
     "text": [
      "You must install pydot (`pip install pydot`) and install graphviz (see instructions at https://graphviz.gitlab.io/download/) for plot_model to work.\n",
      "You must install pydot (`pip install pydot`) and install graphviz (see instructions at https://graphviz.gitlab.io/download/) for plot_model to work.\n"
     ]
    }
   ],
   "source": [
    "import tensorflow as tf\n",
    "from keras.utils import plot_model\n",
    "plot_model(model, to_file='model.png')\n",
    "plot_model(model, to_file='model_plot.png', show_shapes=True, show_layer_names=True)"
   ]
  },
  {
   "cell_type": "code",
   "execution_count": 12,
   "id": "4d793f74",
   "metadata": {},
   "outputs": [
    {
     "data": {
      "text/plain": [
       "(160, 128, 128)"
      ]
     },
     "execution_count": 12,
     "metadata": {},
     "output_type": "execute_result"
    }
   ],
   "source": [
    "train_X.shape"
   ]
  },
  {
   "cell_type": "code",
   "execution_count": 13,
   "id": "d53560eb",
   "metadata": {},
   "outputs": [
    {
     "name": "stdout",
     "output_type": "stream",
     "text": [
      "Epoch 1/10\n",
      "27/27 [==============================] - 13s 229ms/step - loss: 1.0400 - accuracy: 0.8000 - val_loss: 1.4039 - val_accuracy: 0.7073\n",
      "Epoch 2/10\n",
      "27/27 [==============================] - 5s 203ms/step - loss: 0.8995 - accuracy: 0.8000 - val_loss: 1.2057 - val_accuracy: 0.7073\n",
      "Epoch 3/10\n",
      "27/27 [==============================] - 6s 206ms/step - loss: 0.7739 - accuracy: 0.8000 - val_loss: 1.0231 - val_accuracy: 0.7073\n",
      "Epoch 4/10\n",
      "27/27 [==============================] - 6s 204ms/step - loss: 0.6610 - accuracy: 0.8000 - val_loss: 0.8752 - val_accuracy: 0.7073\n",
      "Epoch 5/10\n",
      "27/27 [==============================] - 6s 204ms/step - loss: 0.5805 - accuracy: 0.8000 - val_loss: 0.7574 - val_accuracy: 0.7073\n",
      "Epoch 6/10\n",
      "27/27 [==============================] - 5s 203ms/step - loss: 0.5331 - accuracy: 0.8000 - val_loss: 0.6859 - val_accuracy: 0.7073\n",
      "Epoch 7/10\n",
      "27/27 [==============================] - 6s 209ms/step - loss: 0.5096 - accuracy: 0.8000 - val_loss: 0.6527 - val_accuracy: 0.7073\n",
      "Epoch 8/10\n",
      "27/27 [==============================] - 6s 209ms/step - loss: 0.5049 - accuracy: 0.8000 - val_loss: 0.6364 - val_accuracy: 0.7073\n",
      "Epoch 9/10\n",
      "27/27 [==============================] - 5s 203ms/step - loss: 0.5013 - accuracy: 0.8000 - val_loss: 0.6331 - val_accuracy: 0.7073\n",
      "Epoch 10/10\n",
      "27/27 [==============================] - 6s 205ms/step - loss: 0.5011 - accuracy: 0.8000 - val_loss: 0.6302 - val_accuracy: 0.7073\n"
     ]
    },
    {
     "data": {
      "image/png": "[encoded data removed]",
      "text/plain": [
       "<Figure size 640x480 with 1 Axes>"
      ]
     },
     "metadata": {},
     "output_type": "display_data"
    },
    {
     "data": {
      "image/png": "[encoded data removed]",
      "text/plain": [
       "<Figure size 640x480 with 1 Axes>"
      ]
     },
     "metadata": {},
     "output_type": "display_data"
    }
   ],
   "source": [
    "history = model.fit(train_X, y_train, batch_size=6, epochs=10, validation_data=(X_val, y_val))\n",
    "plt.plot(history.history['loss'])\n",
    "plt.plot(history.history['val_loss'])\n",
    "plt.show()\n",
    "plt.plot(history.history['accuracy'])\n",
    "plt.plot(history.history['val_accuracy'])\n",
    "plt.show()"
   ]
  },
  {
   "cell_type": "code",
   "execution_count": 14,
   "id": "74f64eac",
   "metadata": {},
   "outputs": [
    {
     "data": {
      "image/png": "[encoded data removed]",
      "text/plain": [
       "<Figure size 640x480 with 1 Axes>"
      ]
     },
     "metadata": {},
     "output_type": "display_data"
    }
   ],
   "source": [
    "plt.plot(history.history['loss'])\n",
    "plt.plot(history.history['val_loss'])\n",
    "plt.show()"
   ]
  },
  {
   "cell_type": "code",
   "execution_count": 15,
   "id": "0899238c",
   "metadata": {},
   "outputs": [
    {
     "data": {
      "image/png": "[encoded data removed]",
      "text/plain": [
       "<Figure size 640x480 with 1 Axes>"
      ]
     },
     "metadata": {},
     "output_type": "display_data"
    }
   ],
   "source": [
    "plt.plot(history.history['accuracy'])\n",
    "plt.plot(history.history['val_accuracy'])\n",
    "plt.show()"
   ]
  },
  {
   "cell_type": "code",
   "execution_count": 16,
   "id": "494054d9",
   "metadata": {},
   "outputs": [
    {
     "name": "stdout",
     "output_type": "stream",
     "text": [
      "4/4 [==============================] - 1s 182ms/step - loss: 0.5739 - accuracy: 0.7475\n",
      "\n",
      "Keras CNN binary accuracy: 0.747474730014801 \n",
      "\n"
     ]
    }
   ],
   "source": [
    "#Evaluate the model on the test data after training your model\n",
    "score = model.evaluate(test_X,test_Y, verbose=1)\n",
    "print('\\nKeras CNN binary accuracy:', score[1],'\\n')"
   ]
  },
  {
   "cell_type": "code",
   "execution_count": 17,
   "id": "a853b00f",
   "metadata": {},
   "outputs": [
    {
     "name": "stdout",
     "output_type": "stream",
     "text": [
      "4/4 [==============================] - 1s 190ms/step\n",
      "Precision: [1.         0.74747475]\n",
      "Recall: [0. 1.]\n",
      "F-score: [0.         0.85549133]\n"
     ]
    }
   ],
   "source": [
    "from sklearn.metrics import precision_recall_fscore_support\n",
    "\n",
    "# Make predictions on new data\n",
    "predictions = model.predict(X_test)\n",
    "\n",
    "# Convert predictions to binary values\n",
    "predictions_binary = np.round(predictions)\n",
    "\n",
    "# Calculate precision, recall, and F-score\n",
    "precision, recall, fscore, support = precision_recall_fscore_support(y_test, predictions_binary, zero_division=1)\n",
    "\n",
    "# Print the results\n",
    "print('Precision:', precision)\n",
    "print('Recall:', recall)\n",
    "print('F-score:', fscore)"
   ]
  },
  {
   "cell_type": "code",
   "execution_count": 18,
   "id": "1ccf7f04",
   "metadata": {},
   "outputs": [
    {
     "name": "stdout",
     "output_type": "stream",
     "text": [
      "Confusion matrix: \n",
      "[[ 0 25]\n",
      " [ 0 74]]\n"
     ]
    }
   ],
   "source": [
    "from sklearn.metrics import confusion_matrix\n",
    "cm = confusion_matrix(y_test, predictions_binary)\n",
    "print(\"Confusion matrix: \")\n",
    "print(cm)"
   ]
  },
  {
   "cell_type": "code",
   "execution_count": 19,
   "id": "4dccc044",
   "metadata": {},
   "outputs": [
    {
     "data": {
      "image/png": "[encoded data removed]",
      "text/plain": [
       "<Figure size 1000x800 with 2 Axes>"
      ]
     },
     "metadata": {},
     "output_type": "display_data"
    }
   ],
   "source": [
    "import seaborn as sns\n",
    "fig, ax = plt.subplots(figsize=(10, 8))\n",
    "sns.heatmap(cm, annot=True, cmap='Blues', fmt='.2f', xticklabels=True, yticklabels=True)\n",
    "ax.set_xlabel('Predicted labels')\n",
    "ax.set_ylabel('True labels')\n",
    "ax.set_title('Confusion Matrix')\n",
    "plt.show()"
   ]
  },
  {
   "cell_type": "code",
   "execution_count": 20,
   "id": "64cdc805",
   "metadata": {},
   "outputs": [
    {
     "name": "stdout",
     "output_type": "stream",
     "text": [
      "Model: \"sequential_1\"\n",
      "_________________________________________________________________\n",
      " Layer (type)                Output Shape              Param #   \n",
      "=================================================================\n",
      " conv2d_2 (Conv2D)           (None, 127, 127, 64)      320       \n",
      "                                                                 \n",
      " activation_4 (Activation)   (None, 127, 127, 64)      0         \n",
      "                                                                 \n",
      " max_pooling2d_2 (MaxPooling  (None, 63, 63, 64)       0         \n",
      " 2D)                                                             \n",
      "                                                                 \n",
      " conv2d_3 (Conv2D)           (None, 62, 62, 64)        16448     \n",
      "                                                                 \n",
      " activation_5 (Activation)   (None, 62, 62, 64)        0         \n",
      "                                                                 \n",
      " max_pooling2d_3 (MaxPooling  (None, 31, 31, 64)       0         \n",
      " 2D)                                                             \n",
      "                                                                 \n",
      " flatten_1 (Flatten)         (None, 61504)             0         \n",
      "                                                                 \n",
      " dense_3 (Dense)             (None, 64)                3936320   \n",
      "                                                                 \n",
      " dense_4 (Dense)             (None, 32)                2080      \n",
      "                                                                 \n",
      " dropout (Dropout)           (None, 32)                0         \n",
      "                                                                 \n",
      " activation_6 (Activation)   (None, 32)                0         \n",
      "                                                                 \n",
      " dense_5 (Dense)             (None, 1)                 33        \n",
      "                                                                 \n",
      " activation_7 (Activation)   (None, 1)                 0         \n",
      "                                                                 \n",
      "=================================================================\n",
      "Total params: 3,955,201\n",
      "Trainable params: 3,955,201\n",
      "Non-trainable params: 0\n",
      "_________________________________________________________________\n"
     ]
    }
   ],
   "source": [
    "model1 = Sequential()\n",
    "model1.add(Conv2D(64, (2,2), input_shape=(128,128, 1)))\n",
    "model1.add(Activation('relu'))\n",
    "model1.add(MaxPooling2D(pool_size=(2,2)))\n",
    "model1.add(Conv2D(64, (2,2)))\n",
    "model1.add(Activation('sigmoid'))\n",
    "model1.add(MaxPooling2D(pool_size=(2,2)))\n",
    "model1.add(Flatten())\n",
    "model1.add(Dense(64))\n",
    "model1.add(Dense(32))\n",
    "model1.add(Dropout(0.2))\n",
    "model1.add(Activation('tanh'))\n",
    "model1.add(Dense(1))\n",
    "model1.add(Activation('softmax'))\n",
    "model1.compile(loss = \"binary_crossentropy\", optimizer=\"adam\",metrics=['accuracy'])\n",
    "model1.summary()"
   ]
  },
  {
   "cell_type": "code",
   "execution_count": 21,
   "id": "055da80c",
   "metadata": {},
   "outputs": [
    {
     "name": "stdout",
     "output_type": "stream",
     "text": [
      "Epoch 1/10\n",
      "27/27 [==============================] - 9s 238ms/step - loss: 0.6204 - accuracy: 0.8000 - val_loss: 0.9560 - val_accuracy: 0.7073\n",
      "Epoch 2/10\n",
      "27/27 [==============================] - 6s 237ms/step - loss: 0.5598 - accuracy: 0.8000 - val_loss: 0.8828 - val_accuracy: 0.7073\n",
      "Epoch 3/10\n",
      "27/27 [==============================] - 5s 200ms/step - loss: 0.5832 - accuracy: 0.8000 - val_loss: 0.7992 - val_accuracy: 0.7073\n",
      "Epoch 4/10\n",
      "27/27 [==============================] - 6s 206ms/step - loss: 0.5682 - accuracy: 0.8000 - val_loss: 0.7514 - val_accuracy: 0.7073\n",
      "Epoch 5/10\n",
      "27/27 [==============================] - 5s 200ms/step - loss: 0.5182 - accuracy: 0.8000 - val_loss: 0.7123 - val_accuracy: 0.7073\n",
      "Epoch 6/10\n",
      "27/27 [==============================] - 5s 204ms/step - loss: 0.5354 - accuracy: 0.8000 - val_loss: 0.7102 - val_accuracy: 0.7073\n",
      "Epoch 7/10\n",
      "27/27 [==============================] - 6s 203ms/step - loss: 0.5321 - accuracy: 0.8000 - val_loss: 0.6888 - val_accuracy: 0.7073\n",
      "Epoch 8/10\n",
      "27/27 [==============================] - 6s 208ms/step - loss: 0.5235 - accuracy: 0.8000 - val_loss: 0.6921 - val_accuracy: 0.7073\n",
      "Epoch 9/10\n",
      "27/27 [==============================] - 5s 203ms/step - loss: 0.5104 - accuracy: 0.8000 - val_loss: 0.6832 - val_accuracy: 0.7073\n",
      "Epoch 10/10\n",
      "27/27 [==============================] - 5s 203ms/step - loss: 0.5225 - accuracy: 0.8000 - val_loss: 0.6965 - val_accuracy: 0.7073\n"
     ]
    },
    {
     "data": {
      "image/png": "[encoded data removed]",
      "text/plain": [
       "<Figure size 640x480 with 1 Axes>"
      ]
     },
     "metadata": {},
     "output_type": "display_data"
    },
    {
     "data": {
      "image/png": "[encoded data removed]",
      "text/plain": [
       "<Figure size 640x480 with 1 Axes>"
      ]
     },
     "metadata": {},
     "output_type": "display_data"
    }
   ],
   "source": [
    "history = model1.fit(train_X, y_train, batch_size=6, epochs=10, validation_data=(X_val, y_val))\n",
    "plt.plot(history.history['loss'])\n",
    "plt.plot(history.history['val_loss'])\n",
    "plt.show()\n",
    "plt.plot(history.history['accuracy'])\n",
    "plt.plot(history.history['val_accuracy'])\n",
    "plt.show()"
   ]
  },
  {
   "cell_type": "code",
   "execution_count": 22,
   "id": "a28c3cf6",
   "metadata": {},
   "outputs": [
    {
     "data": {
      "image/png": "[encoded data removed]",
      "text/plain": [
       "<Figure size 640x480 with 1 Axes>"
      ]
     },
     "metadata": {},
     "output_type": "display_data"
    }
   ],
   "source": [
    "plt.plot(history.history['loss'])\n",
    "plt.plot(history.history['val_loss'])\n",
    "plt.show()"
   ]
  },
  {
   "cell_type": "code",
   "execution_count": 23,
   "id": "e294b76c",
   "metadata": {},
   "outputs": [
    {
     "data": {
      "image/png": "[encoded data removed]",
      "text/plain": [
       "<Figure size 640x480 with 1 Axes>"
      ]
     },
     "metadata": {},
     "output_type": "display_data"
    }
   ],
   "source": [
    "plt.plot(history.history['accuracy'])\n",
    "plt.plot(history.history['val_accuracy'])\n",
    "plt.show()"
   ]
  },
  {
   "cell_type": "code",
   "execution_count": 24,
   "id": "e068b116",
   "metadata": {},
   "outputs": [
    {
     "name": "stdout",
     "output_type": "stream",
     "text": [
      "4/4 [==============================] - 1s 159ms/step - loss: 0.6200 - accuracy: 0.7475\n",
      "\n",
      "Keras CNN binary accuracy: 0.747474730014801 \n",
      "\n"
     ]
    }
   ],
   "source": [
    "#Evaluate the model on the test data after training your model\n",
    "score = model1.evaluate(test_X,test_Y, verbose=1)\n",
    "print('\\nKeras CNN binary accuracy:', score[1],'\\n')"
   ]
  },
  {
   "cell_type": "code",
   "execution_count": 25,
   "id": "de51b3fd",
   "metadata": {},
   "outputs": [
    {
     "name": "stdout",
     "output_type": "stream",
     "text": [
      "4/4 [==============================] - 1s 141ms/step\n",
      "Precision: [1.         0.74747475]\n",
      "Recall: [0. 1.]\n",
      "F-score: [0.         0.85549133]\n"
     ]
    }
   ],
   "source": [
    "from sklearn.metrics import precision_recall_fscore_support\n",
    "\n",
    "# Make predictions on new data\n",
    "predictions = model.predict(X_test)\n",
    "\n",
    "# Convert predictions to binary values\n",
    "predictions_binary = np.round(predictions)\n",
    "\n",
    "# Calculate precision, recall, and F-score\n",
    "precision, recall, fscore, support = precision_recall_fscore_support(y_test, predictions_binary, zero_division=1)\n",
    "\n",
    "# Print the results\n",
    "print('Precision:', precision)\n",
    "print('Recall:', recall)\n",
    "print('F-score:', fscore)"
   ]
  },
  {
   "cell_type": "code",
   "execution_count": 26,
   "id": "77e37eef",
   "metadata": {},
   "outputs": [],
   "source": [
    "model1.save(\"m1.h5\")"
   ]
  },
  {
   "cell_type": "code",
   "execution_count": 27,
   "id": "eb071fd8",
   "metadata": {},
   "outputs": [
    {
     "data": {
      "text/plain": [
       "array([[1.],\n",
       "       [1.],\n",
       "       [1.],\n",
       "       [1.],\n",
       "       [1.],\n",
       "       [1.],\n",
       "       [1.],\n",
       "       [1.],\n",
       "       [1.],\n",
       "       [1.],\n",
       "       [1.],\n",
       "       [1.],\n",
       "       [1.],\n",
       "       [1.],\n",
       "       [1.],\n",
       "       [1.],\n",
       "       [1.],\n",
       "       [1.],\n",
       "       [1.],\n",
       "       [1.],\n",
       "       [1.],\n",
       "       [1.],\n",
       "       [1.],\n",
       "       [1.],\n",
       "       [1.],\n",
       "       [1.],\n",
       "       [1.],\n",
       "       [1.],\n",
       "       [1.],\n",
       "       [1.],\n",
       "       [1.],\n",
       "       [1.],\n",
       "       [1.],\n",
       "       [1.],\n",
       "       [1.],\n",
       "       [1.],\n",
       "       [1.],\n",
       "       [1.],\n",
       "       [1.],\n",
       "       [1.],\n",
       "       [1.],\n",
       "       [1.],\n",
       "       [1.],\n",
       "       [1.],\n",
       "       [1.],\n",
       "       [1.],\n",
       "       [1.],\n",
       "       [1.],\n",
       "       [1.],\n",
       "       [1.],\n",
       "       [1.],\n",
       "       [1.],\n",
       "       [1.],\n",
       "       [1.],\n",
       "       [1.],\n",
       "       [1.],\n",
       "       [1.],\n",
       "       [1.],\n",
       "       [1.],\n",
       "       [1.],\n",
       "       [1.],\n",
       "       [1.],\n",
       "       [1.],\n",
       "       [1.],\n",
       "       [1.],\n",
       "       [1.],\n",
       "       [1.],\n",
       "       [1.],\n",
       "       [1.],\n",
       "       [1.],\n",
       "       [1.],\n",
       "       [1.],\n",
       "       [1.],\n",
       "       [1.],\n",
       "       [1.],\n",
       "       [1.],\n",
       "       [1.],\n",
       "       [1.],\n",
       "       [1.],\n",
       "       [1.],\n",
       "       [1.],\n",
       "       [1.],\n",
       "       [1.],\n",
       "       [1.],\n",
       "       [1.],\n",
       "       [1.],\n",
       "       [1.],\n",
       "       [1.],\n",
       "       [1.],\n",
       "       [1.],\n",
       "       [1.],\n",
       "       [1.],\n",
       "       [1.],\n",
       "       [1.],\n",
       "       [1.],\n",
       "       [1.],\n",
       "       [1.],\n",
       "       [1.],\n",
       "       [1.]], dtype=float32)"
      ]
     },
     "execution_count": 27,
     "metadata": {},
     "output_type": "execute_result"
    }
   ],
   "source": [
    "predictions"
   ]
  },
  {
   "cell_type": "code",
   "execution_count": 46,
   "id": "09820660",
   "metadata": {},
   "outputs": [],
   "source": [
    "model3 = Sequential()\n",
    "#\n",
    "model3.add(Conv2D(filters = 8, kernel_size = (5,5),padding = 'Same', \n",
    "                 activation ='relu', input_shape = (128,128,1)))\n",
    "model3.add(MaxPooling2D(pool_size=(2,2)))\n",
    "model3.add(Dropout(0.25))\n",
    "#\n",
    "model3.add(Conv2D(filters = 16, kernel_size = (3,3),padding = 'Same', \n",
    "                 activation ='relu'))\n",
    "model3.add(MaxPooling2D(pool_size=(2,2), strides=(2,2)))\n",
    "model.add(Dropout(0.25))\n",
    "# fully connected\n",
    "model3.add(Flatten())\n",
    "model3.add(Dense(256, activation = \"relu\"))\n",
    "model3.add(Dropout(0.5))\n",
    "model3.add(Dense(1, activation = \"relu\"))"
   ]
  },
  {
   "cell_type": "code",
   "execution_count": 47,
   "id": "cd86e4d5",
   "metadata": {},
   "outputs": [],
   "source": [
    "model3.compile(optimizer=tf.keras.optimizers.Adam(learning_rate=1e-3),\n",
    "              loss=tf.keras.losses.BinaryCrossentropy(), metrics=['accuracy'])"
   ]
  },
  {
   "cell_type": "code",
   "execution_count": 48,
   "id": "e8898629",
   "metadata": {},
   "outputs": [
    {
     "name": "stdout",
     "output_type": "stream",
     "text": [
      "Epoch 1/10\n",
      "27/27 [==============================] - 6s 151ms/step - loss: 0.6518 - accuracy: 0.8938 - val_loss: 0.0748 - val_accuracy: 0.9756\n",
      "Epoch 2/10\n",
      "27/27 [==============================] - 4s 140ms/step - loss: 0.0213 - accuracy: 0.9937 - val_loss: 0.0260 - val_accuracy: 0.9756\n",
      "Epoch 3/10\n",
      "27/27 [==============================] - 4s 137ms/step - loss: 0.0050 - accuracy: 1.0000 - val_loss: 0.0211 - val_accuracy: 0.9756\n",
      "Epoch 4/10\n",
      "27/27 [==============================] - 4s 138ms/step - loss: 0.0011 - accuracy: 1.0000 - val_loss: 0.0150 - val_accuracy: 1.0000\n",
      "Epoch 5/10\n",
      "27/27 [==============================] - 4s 164ms/step - loss: 1.6337e-04 - accuracy: 1.0000 - val_loss: 0.0104 - val_accuracy: 1.0000\n",
      "Epoch 6/10\n",
      "27/27 [==============================] - 4s 138ms/step - loss: 5.5664e-05 - accuracy: 1.0000 - val_loss: 0.0098 - val_accuracy: 1.0000\n",
      "Epoch 7/10\n",
      "27/27 [==============================] - 4s 140ms/step - loss: 0.0050 - accuracy: 1.0000 - val_loss: 0.0074 - val_accuracy: 1.0000\n",
      "Epoch 8/10\n",
      "27/27 [==============================] - 4s 142ms/step - loss: 2.7123e-04 - accuracy: 1.0000 - val_loss: 0.0040 - val_accuracy: 1.0000\n",
      "Epoch 9/10\n",
      "27/27 [==============================] - 4s 142ms/step - loss: 5.8828e-05 - accuracy: 1.0000 - val_loss: 0.0039 - val_accuracy: 1.0000\n",
      "Epoch 10/10\n",
      "27/27 [==============================] - 4s 153ms/step - loss: 0.0000e+00 - accuracy: 1.0000 - val_loss: 0.0039 - val_accuracy: 1.0000\n"
     ]
    }
   ],
   "source": [
    "history4 = model3.fit(train_X, y_train, batch_size=6, epochs=10, validation_data=(X_val, y_val))\n"
   ]
  },
  {
   "cell_type": "code",
   "execution_count": 49,
   "id": "dbe1a29c",
   "metadata": {},
   "outputs": [
    {
     "data": {
      "image/png": "[encoded data removed]",
      "text/plain": [
       "<Figure size 640x480 with 1 Axes>"
      ]
     },
     "metadata": {},
     "output_type": "display_data"
    },
    {
     "data": {
      "image/png": "[encoded data removed]",
      "text/plain": [
       "<Figure size 640x480 with 1 Axes>"
      ]
     },
     "metadata": {},
     "output_type": "display_data"
    }
   ],
   "source": [
    "plt.plot(history4.history['loss'])\n",
    "plt.plot(history4.history['val_loss'])\n",
    "plt.show()\n",
    "plt.plot(history4.history['accuracy'])\n",
    "plt.plot(history4.history['val_accuracy'])\n",
    "plt.show()"
   ]
  },
  {
   "cell_type": "code",
   "execution_count": 50,
   "id": "7a01bc8e",
   "metadata": {},
   "outputs": [],
   "source": [
    "model3.save(\"m3.h5\")"
   ]
  },
  {
   "cell_type": "code",
   "execution_count": 51,
   "id": "847c2c02",
   "metadata": {},
   "outputs": [
    {
     "name": "stdout",
     "output_type": "stream",
     "text": [
      "4/4 [==============================] - 1s 76ms/step\n"
     ]
    }
   ],
   "source": [
    "predictions = model3.predict(X_test)"
   ]
  },
  {
   "cell_type": "code",
   "execution_count": 52,
   "id": "6b3f1a75",
   "metadata": {},
   "outputs": [
    {
     "data": {
      "text/plain": [
       "array([[13.129399  ],\n",
       "       [ 0.        ],\n",
       "       [ 4.217748  ],\n",
       "       [ 3.1343567 ],\n",
       "       [ 1.4533572 ],\n",
       "       [ 0.        ],\n",
       "       [ 8.593661  ],\n",
       "       [ 8.333556  ],\n",
       "       [ 0.        ],\n",
       "       [ 2.2768059 ],\n",
       "       [ 1.1203666 ],\n",
       "       [ 0.        ],\n",
       "       [ 0.        ],\n",
       "       [ 0.        ],\n",
       "       [ 6.9860854 ],\n",
       "       [ 0.        ],\n",
       "       [ 0.81305647],\n",
       "       [ 4.4828315 ],\n",
       "       [23.173664  ],\n",
       "       [ 4.3428674 ],\n",
       "       [ 0.        ],\n",
       "       [ 2.8794274 ],\n",
       "       [17.476864  ],\n",
       "       [ 9.622287  ],\n",
       "       [ 0.37010407],\n",
       "       [ 2.5347276 ],\n",
       "       [ 3.6025343 ],\n",
       "       [ 1.5072849 ],\n",
       "       [ 0.        ],\n",
       "       [ 8.153028  ],\n",
       "       [ 0.        ],\n",
       "       [ 5.644327  ],\n",
       "       [ 2.7025688 ],\n",
       "       [ 0.        ],\n",
       "       [ 4.409115  ],\n",
       "       [ 4.17458   ],\n",
       "       [ 0.        ],\n",
       "       [ 2.1468568 ],\n",
       "       [ 3.4370985 ],\n",
       "       [ 0.        ],\n",
       "       [20.44093   ],\n",
       "       [ 0.        ],\n",
       "       [ 0.        ],\n",
       "       [ 3.0382938 ],\n",
       "       [ 2.9385777 ],\n",
       "       [12.045026  ],\n",
       "       [19.006569  ],\n",
       "       [ 7.6460857 ],\n",
       "       [ 4.4558454 ],\n",
       "       [ 1.5435516 ],\n",
       "       [ 2.2015896 ],\n",
       "       [ 0.        ],\n",
       "       [ 4.9939885 ],\n",
       "       [ 3.5392046 ],\n",
       "       [ 0.8145923 ],\n",
       "       [ 3.648375  ],\n",
       "       [ 0.        ],\n",
       "       [ 1.165539  ],\n",
       "       [ 0.        ],\n",
       "       [ 9.834578  ],\n",
       "       [ 9.27748   ],\n",
       "       [ 9.265517  ],\n",
       "       [ 3.6907535 ],\n",
       "       [ 0.        ],\n",
       "       [ 0.        ],\n",
       "       [ 5.2603397 ],\n",
       "       [17.17512   ],\n",
       "       [ 6.2311397 ],\n",
       "       [ 7.8332977 ],\n",
       "       [ 2.7971869 ],\n",
       "       [ 1.3808857 ],\n",
       "       [ 0.        ],\n",
       "       [ 0.81305647],\n",
       "       [ 7.184706  ],\n",
       "       [ 9.388871  ],\n",
       "       [ 0.        ],\n",
       "       [ 0.        ],\n",
       "       [ 0.37010407],\n",
       "       [ 0.        ],\n",
       "       [11.396392  ],\n",
       "       [ 1.9955046 ],\n",
       "       [ 2.5973969 ],\n",
       "       [ 4.834023  ],\n",
       "       [10.303548  ],\n",
       "       [ 9.265517  ],\n",
       "       [ 1.138833  ],\n",
       "       [ 4.0763946 ],\n",
       "       [ 0.        ],\n",
       "       [ 6.6733513 ],\n",
       "       [24.798006  ],\n",
       "       [10.553043  ],\n",
       "       [ 7.184706  ],\n",
       "       [ 6.9860854 ],\n",
       "       [ 3.1668017 ],\n",
       "       [ 1.6005319 ],\n",
       "       [ 7.745289  ],\n",
       "       [ 2.527502  ],\n",
       "       [ 0.8465506 ],\n",
       "       [ 0.32876015]], dtype=float32)"
      ]
     },
     "execution_count": 52,
     "metadata": {},
     "output_type": "execute_result"
    }
   ],
   "source": [
    "predictions"
   ]
  },
  {
   "cell_type": "code",
   "execution_count": null,
   "id": "8bb7dcd6",
   "metadata": {},
   "outputs": [],
   "source": []
  }
 ],
 "metadata": {
  "kernelspec": {
   "display_name": "Python 3 (ipykernel)",
   "language": "python",
   "name": "python3"
  },
  "language_info": {
   "codemirror_mode": {
    "name": "ipython",
    "version": 3
   },
   "file_extension": ".py",
   "mimetype": "text/x-python",
   "name": "python",
   "nbconvert_exporter": "python",
   "pygments_lexer": "ipython3",
   "version": "3.10.4"
  }
 },
 "nbformat": 4,
 "nbformat_minor": 5
}
